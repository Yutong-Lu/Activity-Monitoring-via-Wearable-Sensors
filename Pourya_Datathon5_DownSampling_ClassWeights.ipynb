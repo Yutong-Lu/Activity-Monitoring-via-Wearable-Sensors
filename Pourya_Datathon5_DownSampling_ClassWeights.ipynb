{
  "cells": [
    {
      "cell_type": "markdown",
      "metadata": {
        "id": "view-in-github",
        "colab_type": "text"
      },
      "source": [
        "<a href=\"https://colab.research.google.com/github/Yutong-Lu/Datathon-5/blob/main/Pourya_Datathon5_DownSampling_ClassWeights.ipynb\" target=\"_parent\"><img src=\"https://colab.research.google.com/assets/colab-badge.svg\" alt=\"Open In Colab\"/></a>"
      ]
    },
    {
      "cell_type": "code",
      "source": [
        "!git clone https://github.com/Yutong-Lu/Datathon-5.git"
      ],
      "metadata": {
        "colab": {
          "base_uri": "https://localhost:8080/"
        },
        "id": "If0rWR_AkTFy",
        "outputId": "5177821a-5893-4b2b-e05b-b1be21f65ccd"
      },
      "id": "If0rWR_AkTFy",
      "execution_count": null,
      "outputs": [
        {
          "output_type": "stream",
          "name": "stdout",
          "text": [
            "Cloning into 'Datathon-5'...\n",
            "remote: Enumerating objects: 29, done.\u001b[K\n",
            "remote: Counting objects: 100% (29/29), done.\u001b[K\n",
            "remote: Compressing objects: 100% (28/28), done.\u001b[K\n",
            "remote: Total 29 (delta 14), reused 5 (delta 1), pack-reused 0\u001b[K\n",
            "Receiving objects: 100% (29/29), 665.77 KiB | 2.16 MiB/s, done.\n",
            "Resolving deltas: 100% (14/14), done.\n"
          ]
        }
      ]
    },
    {
      "cell_type": "code",
      "source": [
        "cd ./Datathon-5"
      ],
      "metadata": {
        "colab": {
          "base_uri": "https://localhost:8080/"
        },
        "id": "TbcVW4fclwUQ",
        "outputId": "0c90fd49-8e7b-44a4-c1e6-89a6c48ba659"
      },
      "id": "TbcVW4fclwUQ",
      "execution_count": null,
      "outputs": [
        {
          "output_type": "stream",
          "name": "stdout",
          "text": [
            "/content/Datathon-5\n"
          ]
        }
      ]
    },
    {
      "cell_type": "code",
      "source": [
        "cd .."
      ],
      "metadata": {
        "colab": {
          "base_uri": "https://localhost:8080/"
        },
        "id": "1_65mS3qoyiq",
        "outputId": "8869b370-8e86-4196-c59f-5850faf877fc"
      },
      "id": "1_65mS3qoyiq",
      "execution_count": null,
      "outputs": [
        {
          "output_type": "stream",
          "name": "stdout",
          "text": [
            "/content\n"
          ]
        }
      ]
    },
    {
      "cell_type": "code",
      "execution_count": null,
      "id": "87dbe515",
      "metadata": {
        "id": "87dbe515"
      },
      "outputs": [],
      "source": [
        "import pandas as pd\n",
        "import numpy as np\n",
        "import matplotlib.pyplot as plt\n",
        "import seaborn as sns\n",
        "from sklearn.preprocessing import StandardScaler\n",
        "import torch as t\n",
        "import torch.nn as nn\n",
        "from torch.optim import Adam\n",
        "from torch.utils.data import TensorDataset, DataLoader\n",
        "\n",
        "import warnings"
      ]
    },
    {
      "cell_type": "code",
      "execution_count": null,
      "id": "aec78f5f",
      "metadata": {
        "colab": {
          "base_uri": "https://localhost:8080/",
          "height": 206
        },
        "id": "aec78f5f",
        "outputId": "43f2f25f-f7a6-4ff7-b3a2-53c4e5980bb4"
      },
      "outputs": [
        {
          "output_type": "execute_result",
          "data": {
            "text/plain": [
              "      alx     aly      alz       glx      gly      glz     arx     ary  \\\n",
              "0  2.1849 -9.6967  0.63077  0.103900 -0.84053 -0.68762 -8.6499 -4.5781   \n",
              "1  2.3876 -9.5080  0.68389  0.085343 -0.83865 -0.68369 -8.6275 -4.3198   \n",
              "2  2.4086 -9.5674  0.68113  0.085343 -0.83865 -0.68369 -8.5055 -4.2772   \n",
              "3  2.1814 -9.4301  0.55031  0.085343 -0.83865 -0.68369 -8.6279 -4.3163   \n",
              "4  2.4173 -9.3889  0.71098  0.085343 -0.83865 -0.68369 -8.7008 -4.1459   \n",
              "\n",
              "        arz      grx     gry       grz  Activity   subject  \n",
              "0  0.187760 -0.44902 -1.0103  0.034483         0  subject1  \n",
              "1  0.023595 -0.44902 -1.0103  0.034483         0  subject1  \n",
              "2  0.275720 -0.44902 -1.0103  0.034483         0  subject1  \n",
              "3  0.367520 -0.45686 -1.0082  0.025862         0  subject1  \n",
              "4  0.407290 -0.45686 -1.0082  0.025862         0  subject1  "
            ],
            "text/html": [
              "\n",
              "  <div id=\"df-b20e0654-a583-4186-8aea-fa49e8d11604\" class=\"colab-df-container\">\n",
              "    <div>\n",
              "<style scoped>\n",
              "    .dataframe tbody tr th:only-of-type {\n",
              "        vertical-align: middle;\n",
              "    }\n",
              "\n",
              "    .dataframe tbody tr th {\n",
              "        vertical-align: top;\n",
              "    }\n",
              "\n",
              "    .dataframe thead th {\n",
              "        text-align: right;\n",
              "    }\n",
              "</style>\n",
              "<table border=\"1\" class=\"dataframe\">\n",
              "  <thead>\n",
              "    <tr style=\"text-align: right;\">\n",
              "      <th></th>\n",
              "      <th>alx</th>\n",
              "      <th>aly</th>\n",
              "      <th>alz</th>\n",
              "      <th>glx</th>\n",
              "      <th>gly</th>\n",
              "      <th>glz</th>\n",
              "      <th>arx</th>\n",
              "      <th>ary</th>\n",
              "      <th>arz</th>\n",
              "      <th>grx</th>\n",
              "      <th>gry</th>\n",
              "      <th>grz</th>\n",
              "      <th>Activity</th>\n",
              "      <th>subject</th>\n",
              "    </tr>\n",
              "  </thead>\n",
              "  <tbody>\n",
              "    <tr>\n",
              "      <th>0</th>\n",
              "      <td>2.1849</td>\n",
              "      <td>-9.6967</td>\n",
              "      <td>0.63077</td>\n",
              "      <td>0.103900</td>\n",
              "      <td>-0.84053</td>\n",
              "      <td>-0.68762</td>\n",
              "      <td>-8.6499</td>\n",
              "      <td>-4.5781</td>\n",
              "      <td>0.187760</td>\n",
              "      <td>-0.44902</td>\n",
              "      <td>-1.0103</td>\n",
              "      <td>0.034483</td>\n",
              "      <td>0</td>\n",
              "      <td>subject1</td>\n",
              "    </tr>\n",
              "    <tr>\n",
              "      <th>1</th>\n",
              "      <td>2.3876</td>\n",
              "      <td>-9.5080</td>\n",
              "      <td>0.68389</td>\n",
              "      <td>0.085343</td>\n",
              "      <td>-0.83865</td>\n",
              "      <td>-0.68369</td>\n",
              "      <td>-8.6275</td>\n",
              "      <td>-4.3198</td>\n",
              "      <td>0.023595</td>\n",
              "      <td>-0.44902</td>\n",
              "      <td>-1.0103</td>\n",
              "      <td>0.034483</td>\n",
              "      <td>0</td>\n",
              "      <td>subject1</td>\n",
              "    </tr>\n",
              "    <tr>\n",
              "      <th>2</th>\n",
              "      <td>2.4086</td>\n",
              "      <td>-9.5674</td>\n",
              "      <td>0.68113</td>\n",
              "      <td>0.085343</td>\n",
              "      <td>-0.83865</td>\n",
              "      <td>-0.68369</td>\n",
              "      <td>-8.5055</td>\n",
              "      <td>-4.2772</td>\n",
              "      <td>0.275720</td>\n",
              "      <td>-0.44902</td>\n",
              "      <td>-1.0103</td>\n",
              "      <td>0.034483</td>\n",
              "      <td>0</td>\n",
              "      <td>subject1</td>\n",
              "    </tr>\n",
              "    <tr>\n",
              "      <th>3</th>\n",
              "      <td>2.1814</td>\n",
              "      <td>-9.4301</td>\n",
              "      <td>0.55031</td>\n",
              "      <td>0.085343</td>\n",
              "      <td>-0.83865</td>\n",
              "      <td>-0.68369</td>\n",
              "      <td>-8.6279</td>\n",
              "      <td>-4.3163</td>\n",
              "      <td>0.367520</td>\n",
              "      <td>-0.45686</td>\n",
              "      <td>-1.0082</td>\n",
              "      <td>0.025862</td>\n",
              "      <td>0</td>\n",
              "      <td>subject1</td>\n",
              "    </tr>\n",
              "    <tr>\n",
              "      <th>4</th>\n",
              "      <td>2.4173</td>\n",
              "      <td>-9.3889</td>\n",
              "      <td>0.71098</td>\n",
              "      <td>0.085343</td>\n",
              "      <td>-0.83865</td>\n",
              "      <td>-0.68369</td>\n",
              "      <td>-8.7008</td>\n",
              "      <td>-4.1459</td>\n",
              "      <td>0.407290</td>\n",
              "      <td>-0.45686</td>\n",
              "      <td>-1.0082</td>\n",
              "      <td>0.025862</td>\n",
              "      <td>0</td>\n",
              "      <td>subject1</td>\n",
              "    </tr>\n",
              "  </tbody>\n",
              "</table>\n",
              "</div>\n",
              "    <div class=\"colab-df-buttons\">\n",
              "\n",
              "  <div class=\"colab-df-container\">\n",
              "    <button class=\"colab-df-convert\" onclick=\"convertToInteractive('df-b20e0654-a583-4186-8aea-fa49e8d11604')\"\n",
              "            title=\"Convert this dataframe to an interactive table.\"\n",
              "            style=\"display:none;\">\n",
              "\n",
              "  <svg xmlns=\"http://www.w3.org/2000/svg\" height=\"24px\" viewBox=\"0 -960 960 960\">\n",
              "    <path d=\"M120-120v-720h720v720H120Zm60-500h600v-160H180v160Zm220 220h160v-160H400v160Zm0 220h160v-160H400v160ZM180-400h160v-160H180v160Zm440 0h160v-160H620v160ZM180-180h160v-160H180v160Zm440 0h160v-160H620v160Z\"/>\n",
              "  </svg>\n",
              "    </button>\n",
              "\n",
              "  <style>\n",
              "    .colab-df-container {\n",
              "      display:flex;\n",
              "      gap: 12px;\n",
              "    }\n",
              "\n",
              "    .colab-df-convert {\n",
              "      background-color: #E8F0FE;\n",
              "      border: none;\n",
              "      border-radius: 50%;\n",
              "      cursor: pointer;\n",
              "      display: none;\n",
              "      fill: #1967D2;\n",
              "      height: 32px;\n",
              "      padding: 0 0 0 0;\n",
              "      width: 32px;\n",
              "    }\n",
              "\n",
              "    .colab-df-convert:hover {\n",
              "      background-color: #E2EBFA;\n",
              "      box-shadow: 0px 1px 2px rgba(60, 64, 67, 0.3), 0px 1px 3px 1px rgba(60, 64, 67, 0.15);\n",
              "      fill: #174EA6;\n",
              "    }\n",
              "\n",
              "    .colab-df-buttons div {\n",
              "      margin-bottom: 4px;\n",
              "    }\n",
              "\n",
              "    [theme=dark] .colab-df-convert {\n",
              "      background-color: #3B4455;\n",
              "      fill: #D2E3FC;\n",
              "    }\n",
              "\n",
              "    [theme=dark] .colab-df-convert:hover {\n",
              "      background-color: #434B5C;\n",
              "      box-shadow: 0px 1px 3px 1px rgba(0, 0, 0, 0.15);\n",
              "      filter: drop-shadow(0px 1px 2px rgba(0, 0, 0, 0.3));\n",
              "      fill: #FFFFFF;\n",
              "    }\n",
              "  </style>\n",
              "\n",
              "    <script>\n",
              "      const buttonEl =\n",
              "        document.querySelector('#df-b20e0654-a583-4186-8aea-fa49e8d11604 button.colab-df-convert');\n",
              "      buttonEl.style.display =\n",
              "        google.colab.kernel.accessAllowed ? 'block' : 'none';\n",
              "\n",
              "      async function convertToInteractive(key) {\n",
              "        const element = document.querySelector('#df-b20e0654-a583-4186-8aea-fa49e8d11604');\n",
              "        const dataTable =\n",
              "          await google.colab.kernel.invokeFunction('convertToInteractive',\n",
              "                                                    [key], {});\n",
              "        if (!dataTable) return;\n",
              "\n",
              "        const docLinkHtml = 'Like what you see? Visit the ' +\n",
              "          '<a target=\"_blank\" href=https://colab.research.google.com/notebooks/data_table.ipynb>data table notebook</a>'\n",
              "          + ' to learn more about interactive tables.';\n",
              "        element.innerHTML = '';\n",
              "        dataTable['output_type'] = 'display_data';\n",
              "        await google.colab.output.renderOutput(dataTable, element);\n",
              "        const docLink = document.createElement('div');\n",
              "        docLink.innerHTML = docLinkHtml;\n",
              "        element.appendChild(docLink);\n",
              "      }\n",
              "    </script>\n",
              "  </div>\n",
              "\n",
              "\n",
              "<div id=\"df-4be3c0fc-c72b-4960-9728-2809ad8e7729\">\n",
              "  <button class=\"colab-df-quickchart\" onclick=\"quickchart('df-4be3c0fc-c72b-4960-9728-2809ad8e7729')\"\n",
              "            title=\"Suggest charts\"\n",
              "            style=\"display:none;\">\n",
              "\n",
              "<svg xmlns=\"http://www.w3.org/2000/svg\" height=\"24px\"viewBox=\"0 0 24 24\"\n",
              "     width=\"24px\">\n",
              "    <g>\n",
              "        <path d=\"M19 3H5c-1.1 0-2 .9-2 2v14c0 1.1.9 2 2 2h14c1.1 0 2-.9 2-2V5c0-1.1-.9-2-2-2zM9 17H7v-7h2v7zm4 0h-2V7h2v10zm4 0h-2v-4h2v4z\"/>\n",
              "    </g>\n",
              "</svg>\n",
              "  </button>\n",
              "\n",
              "<style>\n",
              "  .colab-df-quickchart {\n",
              "      --bg-color: #E8F0FE;\n",
              "      --fill-color: #1967D2;\n",
              "      --hover-bg-color: #E2EBFA;\n",
              "      --hover-fill-color: #174EA6;\n",
              "      --disabled-fill-color: #AAA;\n",
              "      --disabled-bg-color: #DDD;\n",
              "  }\n",
              "\n",
              "  [theme=dark] .colab-df-quickchart {\n",
              "      --bg-color: #3B4455;\n",
              "      --fill-color: #D2E3FC;\n",
              "      --hover-bg-color: #434B5C;\n",
              "      --hover-fill-color: #FFFFFF;\n",
              "      --disabled-bg-color: #3B4455;\n",
              "      --disabled-fill-color: #666;\n",
              "  }\n",
              "\n",
              "  .colab-df-quickchart {\n",
              "    background-color: var(--bg-color);\n",
              "    border: none;\n",
              "    border-radius: 50%;\n",
              "    cursor: pointer;\n",
              "    display: none;\n",
              "    fill: var(--fill-color);\n",
              "    height: 32px;\n",
              "    padding: 0;\n",
              "    width: 32px;\n",
              "  }\n",
              "\n",
              "  .colab-df-quickchart:hover {\n",
              "    background-color: var(--hover-bg-color);\n",
              "    box-shadow: 0 1px 2px rgba(60, 64, 67, 0.3), 0 1px 3px 1px rgba(60, 64, 67, 0.15);\n",
              "    fill: var(--button-hover-fill-color);\n",
              "  }\n",
              "\n",
              "  .colab-df-quickchart-complete:disabled,\n",
              "  .colab-df-quickchart-complete:disabled:hover {\n",
              "    background-color: var(--disabled-bg-color);\n",
              "    fill: var(--disabled-fill-color);\n",
              "    box-shadow: none;\n",
              "  }\n",
              "\n",
              "  .colab-df-spinner {\n",
              "    border: 2px solid var(--fill-color);\n",
              "    border-color: transparent;\n",
              "    border-bottom-color: var(--fill-color);\n",
              "    animation:\n",
              "      spin 1s steps(1) infinite;\n",
              "  }\n",
              "\n",
              "  @keyframes spin {\n",
              "    0% {\n",
              "      border-color: transparent;\n",
              "      border-bottom-color: var(--fill-color);\n",
              "      border-left-color: var(--fill-color);\n",
              "    }\n",
              "    20% {\n",
              "      border-color: transparent;\n",
              "      border-left-color: var(--fill-color);\n",
              "      border-top-color: var(--fill-color);\n",
              "    }\n",
              "    30% {\n",
              "      border-color: transparent;\n",
              "      border-left-color: var(--fill-color);\n",
              "      border-top-color: var(--fill-color);\n",
              "      border-right-color: var(--fill-color);\n",
              "    }\n",
              "    40% {\n",
              "      border-color: transparent;\n",
              "      border-right-color: var(--fill-color);\n",
              "      border-top-color: var(--fill-color);\n",
              "    }\n",
              "    60% {\n",
              "      border-color: transparent;\n",
              "      border-right-color: var(--fill-color);\n",
              "    }\n",
              "    80% {\n",
              "      border-color: transparent;\n",
              "      border-right-color: var(--fill-color);\n",
              "      border-bottom-color: var(--fill-color);\n",
              "    }\n",
              "    90% {\n",
              "      border-color: transparent;\n",
              "      border-bottom-color: var(--fill-color);\n",
              "    }\n",
              "  }\n",
              "</style>\n",
              "\n",
              "  <script>\n",
              "    async function quickchart(key) {\n",
              "      const quickchartButtonEl =\n",
              "        document.querySelector('#' + key + ' button');\n",
              "      quickchartButtonEl.disabled = true;  // To prevent multiple clicks.\n",
              "      quickchartButtonEl.classList.add('colab-df-spinner');\n",
              "      try {\n",
              "        const charts = await google.colab.kernel.invokeFunction(\n",
              "            'suggestCharts', [key], {});\n",
              "      } catch (error) {\n",
              "        console.error('Error during call to suggestCharts:', error);\n",
              "      }\n",
              "      quickchartButtonEl.classList.remove('colab-df-spinner');\n",
              "      quickchartButtonEl.classList.add('colab-df-quickchart-complete');\n",
              "    }\n",
              "    (() => {\n",
              "      let quickchartButtonEl =\n",
              "        document.querySelector('#df-4be3c0fc-c72b-4960-9728-2809ad8e7729 button');\n",
              "      quickchartButtonEl.style.display =\n",
              "        google.colab.kernel.accessAllowed ? 'block' : 'none';\n",
              "    })();\n",
              "  </script>\n",
              "</div>\n",
              "    </div>\n",
              "  </div>\n"
            ]
          },
          "metadata": {},
          "execution_count": 3
        }
      ],
      "source": [
        "# Load the CSV file into a DataFrame\n",
        "file_path = 'mhealth.csv'\n",
        "df = pd.read_csv(file_path)\n",
        "\n",
        "df.head()"
      ]
    },
    {
      "cell_type": "code",
      "source": [
        "df.shape"
      ],
      "metadata": {
        "colab": {
          "base_uri": "https://localhost:8080/"
        },
        "id": "t1mDEgAG3yJg",
        "outputId": "6c6c9744-e76d-4209-8ed7-9ba95d738b23"
      },
      "id": "t1mDEgAG3yJg",
      "execution_count": null,
      "outputs": [
        {
          "output_type": "execute_result",
          "data": {
            "text/plain": [
              "(999999, 14)"
            ]
          },
          "metadata": {},
          "execution_count": 4
        }
      ]
    },
    {
      "cell_type": "code",
      "execution_count": null,
      "id": "6c7438be",
      "metadata": {
        "colab": {
          "base_uri": "https://localhost:8080/"
        },
        "id": "6c7438be",
        "outputId": "a207138a-de91-41ae-e1e1-5e8abdf964be"
      },
      "outputs": [
        {
          "output_type": "execute_result",
          "data": {
            "text/plain": [
              "alx         0\n",
              "aly         0\n",
              "alz         0\n",
              "glx         0\n",
              "gly         0\n",
              "glz         0\n",
              "arx         0\n",
              "ary         0\n",
              "arz         0\n",
              "grx         0\n",
              "gry         0\n",
              "grz         0\n",
              "Activity    0\n",
              "subject     0\n",
              "dtype: int64"
            ]
          },
          "metadata": {},
          "execution_count": 5
        }
      ],
      "source": [
        "# no missing value\n",
        "df.isnull().sum()"
      ]
    },
    {
      "cell_type": "code",
      "execution_count": null,
      "id": "8738e72f",
      "metadata": {
        "colab": {
          "base_uri": "https://localhost:8080/"
        },
        "id": "8738e72f",
        "outputId": "f99ee7fc-bdb2-41a4-9880-06dff089398c"
      },
      "outputs": [
        {
          "output_type": "execute_result",
          "data": {
            "text/plain": [
              "subject1    161280\n",
              "subject2    130561\n",
              "subject8    129024\n",
              "subject3    122112\n",
              "subject5    119808\n",
              "subject4    116736\n",
              "subject7    104448\n",
              "subject6     98304\n",
              "subject9     17726\n",
              "Name: subject, dtype: int64"
            ]
          },
          "metadata": {},
          "execution_count": 6
        }
      ],
      "source": [
        "# Check the number of sequence for each person\n",
        "df['subject'].value_counts()"
      ]
    },
    {
      "cell_type": "code",
      "execution_count": null,
      "id": "fd5c8bd3",
      "metadata": {
        "colab": {
          "base_uri": "https://localhost:8080/"
        },
        "id": "fd5c8bd3",
        "outputId": "fbc1424f-ce3b-497d-de34-80ddbb9969db"
      },
      "outputs": [
        {
          "output_type": "execute_result",
          "data": {
            "text/plain": [
              "0     720946\n",
              "1      27648\n",
              "2      25406\n",
              "3      24576\n",
              "4      24576\n",
              "9      24576\n",
              "10     24576\n",
              "11     24576\n",
              "5      24576\n",
              "7      23809\n",
              "8      23501\n",
              "6      22990\n",
              "12      8243\n",
              "Name: Activity, dtype: int64"
            ]
          },
          "metadata": {},
          "execution_count": 7
        }
      ],
      "source": [
        "# Check activity frequency\n",
        "activity_counts = df['Activity'].value_counts()\n",
        "activity_counts"
      ]
    },
    {
      "cell_type": "code",
      "source": [
        "majority_class = df['Activity'].value_counts().idxmax()\n",
        "\n",
        "# Separate majority class and other classes\n",
        "majority_data = df[df['Activity'] == majority_class]\n",
        "other_classes_data = df[df['Activity'] != majority_class]\n",
        "\n",
        "# Determine the size of the majority class\n",
        "majority_size = len(majority_data)\n",
        "\n",
        "# Downsampling the majority class\n",
        "downsampled_majority = majority_data.sample(n=majority_size // 30, random_state=42)  # Downsample to half the size\n",
        "\n",
        "# Combine the downsampled majority class with other classes\n",
        "df = pd.concat([downsampled_majority, other_classes_data])"
      ],
      "metadata": {
        "id": "KB8hSmyzfY6j"
      },
      "id": "KB8hSmyzfY6j",
      "execution_count": null,
      "outputs": []
    },
    {
      "cell_type": "code",
      "source": [
        "# Calculate the total number of samples\n",
        "total_samples = df['Activity'].value_counts().sum()\n",
        "\n",
        "# Calculate inverse frequencies for each activity\n",
        "inverse_frequencies = total_samples / (len(activity_counts) * activity_counts)\n",
        "class_weights = t.tensor(inverse_frequencies.values, dtype=t.float32)\n",
        "class_weights"
      ],
      "metadata": {
        "colab": {
          "base_uri": "https://localhost:8080/"
        },
        "id": "q9tLP4eUZcIw",
        "outputId": "3801766b-4159-49af-c727-dfae69bc49ff"
      },
      "id": "q9tLP4eUZcIw",
      "execution_count": null,
      "outputs": [
        {
          "output_type": "execute_result",
          "data": {
            "text/plain": [
              "tensor([0.0323, 0.8432, 0.9177, 0.9487, 0.9487, 0.9487, 0.9487, 0.9487, 0.9487,\n",
              "        0.9792, 0.9920, 1.0141, 2.8284])"
            ]
          },
          "metadata": {},
          "execution_count": 9
        }
      ]
    },
    {
      "cell_type": "code",
      "source": [
        "data_crosstab = pd.crosstab(df['subject'], df['Activity'], margins = False)\n",
        "print(data_crosstab)"
      ],
      "metadata": {
        "colab": {
          "base_uri": "https://localhost:8080/"
        },
        "id": "6cybg2gMhP5e",
        "outputId": "0d513ef3-5db4-4dd2-8769-0f3f22ecef8b"
      },
      "id": "6cybg2gMhP5e",
      "execution_count": null,
      "outputs": [
        {
          "output_type": "stream",
          "name": "stdout",
          "text": [
            "Activity    0     1     2     3     4     5     6     7     8     9     10  \\\n",
            "subject                                                                      \n",
            "subject1  4214  3072  3072  3072  3072  3072  3072  3072  3379  3072  3072   \n",
            "subject2  3192  3072  3072  3072  3072  3072  3174  3328  3430  3072  3072   \n",
            "subject3  2878  3072  3072  3072  3072  3072  3226  3379  3175  3072  3072   \n",
            "subject4  2662  3072  3072  3072  3072  3072  3328  3277  3123  3072  3072   \n",
            "subject5  2896  3072  3072  3072  3072  3072  2765  2868  2714  3072  3072   \n",
            "subject6  2248  3072  3072  3072  3072  3072  2202  2099  2304  3072  3072   \n",
            "subject7  2326  3072  3072  3072  3072  3072  3072  2765  2816  3072  3072   \n",
            "subject8  3116  3072  3072  3072  3072  3072  2151  3021  2560  3072  3072   \n",
            "subject9   499  3072   830     0     0     0     0     0     0     0     0   \n",
            "\n",
            "Activity    11    12  \n",
            "subject               \n",
            "subject1  3072  1075  \n",
            "subject2  3072  1024  \n",
            "subject3  3072  1024  \n",
            "subject4  3072  1024  \n",
            "subject5  3072  1024  \n",
            "subject6  3072  1024  \n",
            "subject7  3072  1024  \n",
            "subject8  3072  1024  \n",
            "subject9     0     0  \n"
          ]
        }
      ]
    },
    {
      "cell_type": "code",
      "source": [
        "correlation_matrix = df.corr(numeric_only=True)\n",
        "\n",
        "# Plot the updated correlation heatmap\n",
        "plt.figure(figsize=(12, 10))\n",
        "sns.heatmap(correlation_matrix, annot=True, fmt=\".2f\", cmap='magma')\n",
        "plt.title('Correlation Heatmap', fontsize=15)\n",
        "plt.show()"
      ],
      "metadata": {
        "colab": {
          "base_uri": "https://localhost:8080/",
          "height": 855
        },
        "id": "gLfgEduzuMBf",
        "outputId": "4dfa7008-9d68-4792-c829-3a8f3819fcb0"
      },
      "id": "gLfgEduzuMBf",
      "execution_count": null,
      "outputs": [
        {
          "output_type": "display_data",
          "data": {
            "text/plain": [
              "<Figure size 1200x1000 with 2 Axes>"
            ],
            "image/png": "[encoded data removed]"
          },
          "metadata": {}
        }
      ]
    },
    {
      "cell_type": "code",
      "execution_count": null,
      "id": "d2580771",
      "metadata": {
        "id": "d2580771"
      },
      "outputs": [],
      "source": [
        "from sklearn.model_selection import train_test_split\n",
        "\n",
        "# Grouping by 'patient_nbr' and creating a list of dataframes, one per group\n",
        "grouped = df.groupby('subject')\n",
        "grouped_dfs = [group for _, group in grouped]"
      ]
    },
    {
      "cell_type": "code",
      "source": [
        "from sklearn.preprocessing import StandardScaler\n",
        "\n",
        "train_sets = []\n",
        "test_sets = []\n",
        "validation_sets = []\n",
        "for i in range(len(grouped_dfs)):\n",
        "    # Splitting the groups into training and test sets with an 80:20 ratio\n",
        "    train_set, test_set = train_test_split(grouped_dfs[i], test_size=0.2, random_state=42)\n",
        "    train_set, validation_set = train_test_split(train_set, test_size=0.2, random_state=42)\n",
        "    print(np.shape(train_set), np.shape(test_set), np.shape(validation_set))\n",
        "    numerical_columns = train_set.select_dtypes(include=['int64', 'float64']).columns.tolist()\n",
        "    numerical_columns.remove('Activity')  # Assuming 'Activity' is the target variable\n",
        "\n",
        "    scaler = StandardScaler()\n",
        "    train_set[numerical_columns] = scaler.fit_transform(train_set[numerical_columns])\n",
        "    validation_set[numerical_columns] = scaler.transform(validation_set[numerical_columns])\n",
        "    test_set[numerical_columns] = scaler.transform(test_set[numerical_columns])\n",
        "    train_sets.append(train_set)\n",
        "    test_sets.append(test_set)\n",
        "    validation_sets.append(validation_set)"
      ],
      "metadata": {
        "colab": {
          "base_uri": "https://localhost:8080/"
        },
        "id": "4QyVRptzanxi",
        "outputId": "ea276468-ef1b-40d8-e588-442620973a35"
      },
      "id": "4QyVRptzanxi",
      "execution_count": null,
      "outputs": [
        {
          "output_type": "stream",
          "name": "stdout",
          "text": [
            "(25208, 14) (7878, 14) (6302, 14)\n",
            "(24783, 14) (7745, 14) (6196, 14)\n",
            "(24484, 14) (7652, 14) (6122, 14)\n",
            "(24313, 14) (7598, 14) (6079, 14)\n",
            "(23579, 14) (7369, 14) (5895, 14)\n",
            "(22049, 14) (6891, 14) (5513, 14)\n",
            "(23410, 14) (7316, 14) (5853, 14)\n",
            "(23326, 14) (7290, 14) (5832, 14)\n",
            "(2816, 14) (881, 14) (704, 14)\n"
          ]
        }
      ]
    },
    {
      "cell_type": "markdown",
      "source": [
        "Create sequence for training set"
      ],
      "metadata": {
        "id": "GgAO-uHo2Z75"
      },
      "id": "GgAO-uHo2Z75"
    },
    {
      "cell_type": "code",
      "execution_count": null,
      "id": "6b4821a2",
      "metadata": {
        "id": "6b4821a2"
      },
      "outputs": [],
      "source": [
        "numerical_features = [\n",
        "    col for col in df.select_dtypes(include=[np.number]).columns\n",
        "    if col != 'Activity'\n",
        "]\n",
        "\n",
        "def create_sequences(data, sequence_length=100):\n",
        "    sequences = []\n",
        "    output = []\n",
        "    for i in range(0, len(data) - sequence_length + 1, sequence_length):\n",
        "        sequence = data[i:i + sequence_length]\n",
        "        # Assuming 'Activity' is the target variable and is the same for the entire sequence\n",
        "        label = sequence['Activity'].iloc[0]\n",
        "        sequences.append(sequence[numerical_features].values)\n",
        "        output.append(label)\n",
        "\n",
        "    return np.array(sequences), np.array(output)"
      ]
    },
    {
      "cell_type": "code",
      "source": [
        "# Creating sequences for training and test data\n",
        "X_train_list = []\n",
        "y_train_list = []\n",
        "X_test_list = []\n",
        "y_test_list = []\n",
        "X_validation_list = []\n",
        "y_validation_list = []\n",
        "\n",
        "for i in range(len(train_sets)):\n",
        "    X_train, y_train = create_sequences(train_sets[i], sequence_length=100)\n",
        "    X_test, y_test = create_sequences(test_sets[i], sequence_length=100)\n",
        "    X_validation, y_validation = create_sequences(validation_sets[i], sequence_length=100)\n",
        "    print(X_train.shape, y_train.shape, X_test.shape, y_test.shape, X_validation.shape, y_validation.shape)\n",
        "    X_train_list.append(X_train)\n",
        "    y_train_list.append(y_train)\n",
        "    X_test_list.append(X_test)\n",
        "    y_test_list.append(y_test)\n",
        "    X_validation_list.append(X_validation)\n",
        "    y_validation_list.append(y_validation)"
      ],
      "metadata": {
        "id": "4GQ_JTOFeK5Z",
        "colab": {
          "base_uri": "https://localhost:8080/"
        },
        "outputId": "aa08eef7-0207-4701-e6db-f8820b248497"
      },
      "id": "4GQ_JTOFeK5Z",
      "execution_count": null,
      "outputs": [
        {
          "output_type": "stream",
          "name": "stdout",
          "text": [
            "(252, 100, 12) (252,) (78, 100, 12) (78,) (63, 100, 12) (63,)\n",
            "(247, 100, 12) (247,) (77, 100, 12) (77,) (61, 100, 12) (61,)\n",
            "(244, 100, 12) (244,) (76, 100, 12) (76,) (61, 100, 12) (61,)\n",
            "(243, 100, 12) (243,) (75, 100, 12) (75,) (60, 100, 12) (60,)\n",
            "(235, 100, 12) (235,) (73, 100, 12) (73,) (58, 100, 12) (58,)\n",
            "(220, 100, 12) (220,) (68, 100, 12) (68,) (55, 100, 12) (55,)\n",
            "(234, 100, 12) (234,) (73, 100, 12) (73,) (58, 100, 12) (58,)\n",
            "(233, 100, 12) (233,) (72, 100, 12) (72,) (58, 100, 12) (58,)\n",
            "(28, 100, 12) (28,) (8, 100, 12) (8,) (7, 100, 12) (7,)\n"
          ]
        }
      ]
    },
    {
      "cell_type": "code",
      "source": [
        "X_train = np.concatenate(X_train_list, axis=0)\n",
        "y_train = np.concatenate(y_train_list, axis=0)\n",
        "X_test = np.concatenate(X_test_list, axis=0)\n",
        "y_test = np.concatenate(y_test_list, axis=0)\n",
        "X_validation = np.concatenate(X_validation_list, axis=0)\n",
        "y_validation = np.concatenate(y_validation_list, axis=0)\n",
        "print(np.shape(X_train), np.shape(y_train), np.shape(X_test), np.shape(y_test), np.shape(X_validation), np.shape(y_validation))"
      ],
      "metadata": {
        "id": "RfPs84mKfcv8",
        "colab": {
          "base_uri": "https://localhost:8080/"
        },
        "outputId": "1bcd7cc2-8e92-494d-e030-efacd54aadee"
      },
      "id": "RfPs84mKfcv8",
      "execution_count": null,
      "outputs": [
        {
          "output_type": "stream",
          "name": "stdout",
          "text": [
            "(1936, 100, 12) (1936,) (600, 100, 12) (600,) (481, 100, 12) (481,)\n"
          ]
        }
      ]
    },
    {
      "cell_type": "code",
      "source": [
        "class Model(nn.Module):\n",
        "    def __init__(self, input_size, hidden_size, num_classes):\n",
        "        super(Model, self).__init__()\n",
        "\n",
        "        self.rnn_layer1 = nn.LSTM(input_size, hidden_size, batch_first=True)\n",
        "        self.dropout1 = nn.Dropout(0.5)\n",
        "        self.rnn_layer2 = nn.LSTM(hidden_size, hidden_size, batch_first=True)\n",
        "        self.dropout2 = nn.Dropout(0.5)\n",
        "        self.fc_layer1 = nn.Linear(hidden_size, hidden_size)\n",
        "        self.batch_normalization = nn.BatchNorm1d(hidden_size)\n",
        "        self.fc_layer2 = nn.Linear(hidden_size, hidden_size * 2)\n",
        "        self.batch_normalization2 = nn.BatchNorm1d(hidden_size * 2)\n",
        "        self.fc_layer3 = nn.Linear(hidden_size * 2, hidden_size)\n",
        "        self.batch_normalization3 = nn.BatchNorm1d(hidden_size)\n",
        "        self.fc_layer4 = nn.Linear(hidden_size, hidden_size // 2)\n",
        "        self.batch_normalization4 = nn.BatchNorm1d(hidden_size // 2)\n",
        "        self.fc_layer5 = nn.Linear(hidden_size // 2, num_classes)\n",
        "        self.dropout_fc = nn.Dropout(0.2)\n",
        "        self.relu = nn.ReLU()\n",
        "\n",
        "    def forward(self, x):\n",
        "        out, _ = self.rnn_layer1(x)\n",
        "        out = self.dropout1(out)\n",
        "        out, _ = self.rnn_layer2(out)\n",
        "        out = self.dropout2(out)\n",
        "        out = out[:, -1, :]\n",
        "        out = self.relu(self.fc_layer1(out))\n",
        "        out = self.batch_normalization(out)\n",
        "        out = self.relu(self.fc_layer2(out))\n",
        "        out = self.batch_normalization2(out)\n",
        "        out = self.dropout_fc(out)\n",
        "        out = self.relu(self.fc_layer3(out))\n",
        "        out = self.batch_normalization3(out)\n",
        "        out = self.relu(self.fc_layer4(out))\n",
        "        out = self.batch_normalization4(out)\n",
        "        out = self.dropout_fc(out)\n",
        "        out = self.fc_layer5(out)\n",
        "        return out"
      ],
      "metadata": {
        "id": "7SoiKfiJgJ25"
      },
      "id": "7SoiKfiJgJ25",
      "execution_count": null,
      "outputs": []
    },
    {
      "cell_type": "code",
      "source": [
        "input_size = X_train.shape[2]\n",
        "hidden_size = 256\n",
        "num_classes = 13\n",
        "learning_rate = 0.001\n",
        "batch_size = 256\n",
        "\n",
        "# Create an instance of the model\n",
        "model = Model(input_size, hidden_size, num_classes)\n",
        "\n",
        "# Loss function and optimizer\n",
        "loss_fn = nn.CrossEntropyLoss(weight=class_weights)\n",
        "optimizer = Adam(model.parameters(), lr=learning_rate)"
      ],
      "metadata": {
        "id": "N-VEozTehl5j"
      },
      "id": "N-VEozTehl5j",
      "execution_count": null,
      "outputs": []
    },
    {
      "cell_type": "code",
      "source": [
        "# Data preparation\n",
        "train_dataset = TensorDataset(t.tensor(X_train, dtype=t.float32), t.tensor(y_train, dtype=t.long))\n",
        "train_data_loader = DataLoader(train_dataset, batch_size=batch_size, shuffle=True)\n",
        "\n",
        "validation_dataset = TensorDataset(t.tensor(X_validation, dtype=t.float32), t.tensor(y_validation, dtype=t.long))\n",
        "validation_data_loader = DataLoader(validation_dataset, batch_size=batch_size, shuffle=False)\n",
        "\n",
        "test_dataset = TensorDataset(t.tensor(X_test, dtype=t.float32), t.tensor(y_test, dtype=t.long))\n",
        "test_data_loader = DataLoader(test_dataset, batch_size=batch_size, shuffle=False)"
      ],
      "metadata": {
        "id": "MlSDdO9JJV-M"
      },
      "id": "MlSDdO9JJV-M",
      "execution_count": null,
      "outputs": []
    },
    {
      "cell_type": "code",
      "source": [
        "# Lists to store accuracies and losses\n",
        "train_accuracy_list = []\n",
        "validation_accuracy_list = []\n",
        "train_loss_list = []\n",
        "\n",
        "best_validation_accuracy = 0.0\n",
        "best_model_state = None\n",
        "epochs = 50\n",
        "\n",
        "# Training loop\n",
        "for epoch in range(epochs):\n",
        "    if epoch % 10 == 0:\n",
        "        learning_rate *= 0.95  # Learning rate scheduling\n",
        "\n",
        "    per_epoch_loss_list = []\n",
        "    for X, Y in train_data_loader:\n",
        "        # Forward pass through the model\n",
        "        out = model(X)\n",
        "\n",
        "        # Loss calculation\n",
        "        loss = loss_fn(out, Y)\n",
        "        per_epoch_loss_list.append(loss.item())\n",
        "\n",
        "        # Backward pass and optimization\n",
        "        optimizer.zero_grad()\n",
        "        loss.backward()\n",
        "        optimizer.step()\n",
        "\n",
        "        per_epoch_loss_list.append(loss.item())\n",
        "\n",
        "\n",
        "    # Evaluation on training and validation data\n",
        "    model.eval()\n",
        "\n",
        "    with t.no_grad():\n",
        "        # Training data\n",
        "        train_correct, train_total = 0, 0\n",
        "        for X, Y in train_data_loader:\n",
        "            out = model(X)\n",
        "            _, predicted = t.max(out.data, 1)\n",
        "            train_total += Y.size(0)\n",
        "            train_correct += (predicted == Y).sum().item()\n",
        "        train_accuracy = 100 * train_correct / train_total\n",
        "\n",
        "        # Validation data\n",
        "        validation_correct, validation_total = 0, 0\n",
        "        for X, Y in validation_data_loader:\n",
        "            out = model(X)\n",
        "            _, predicted = t.max(out.data, 1)\n",
        "            validation_total += Y.size(0)\n",
        "            validation_correct += (predicted == Y).sum().item()\n",
        "        validation_accuracy = 100 * validation_correct / validation_total\n",
        "\n",
        "        # Track best model and its state\n",
        "        if validation_accuracy > best_validation_accuracy:\n",
        "            best_validation_accuracy = validation_accuracy\n",
        "            best_model_state = {\n",
        "                'model': model.state_dict(),\n",
        "            }\n",
        "\n",
        "        # Print accuracy for the current epoch\n",
        "        print(f'Epoch {epoch}/{epochs} ---> Train Accuracy: {train_accuracy}%, Validation Accuracy: {validation_accuracy}%')\n",
        "\n",
        "        # Append accuracy values to lists\n",
        "        train_accuracy_list.append(train_accuracy)\n",
        "        validation_accuracy_list.append(validation_accuracy)\n",
        "\n",
        "    # Calculate and append the average loss for the epoch\n",
        "    train_loss_list.append(sum(per_epoch_loss_list) / len(per_epoch_loss_list))\n",
        "\n",
        "    # Set the model back to train mode\n",
        "    model.train()\n",
        "\n",
        "\n",
        "t.save(best_model_state, 'best_model.pth')"
      ],
      "metadata": {
        "colab": {
          "base_uri": "https://localhost:8080/"
        },
        "id": "PhG-B63Suiad",
        "outputId": "35e779ab-efba-451a-ee68-3395d6e625d6"
      },
      "id": "PhG-B63Suiad",
      "execution_count": null,
      "outputs": [
        {
          "output_type": "stream",
          "name": "stdout",
          "text": [
            "Epoch 0/50 ---> Train Accuracy: 8.316115702479339%, Validation Accuracy: 8.731808731808732%\n"
          ]
        }
      ]
    },
    {
      "cell_type": "code",
      "source": [
        "# Plot training and validation accuracy over epochs\n",
        "plt.plot([i for i in range(len(train_accuracy_list))], train_accuracy_list, label=\"Train\")\n",
        "plt.plot([i for i in range(len(validation_accuracy_list))], validation_accuracy_list, label=\"Validation\")\n",
        "plt.legend(loc=\"upper left\")\n",
        "plt.xlabel('Epochs')\n",
        "plt.ylabel('Accuracy')\n",
        "plt.show()"
      ],
      "metadata": {
        "id": "xhgWkLQWwwkt"
      },
      "id": "xhgWkLQWwwkt",
      "execution_count": null,
      "outputs": []
    },
    {
      "cell_type": "code",
      "source": [
        "# Load the best model parameters\n",
        "best_model_state = t.load('best_model.pth')\n",
        "\n",
        "# Initialize a new model with the same architecture\n",
        "best_model = Model(input_size, hidden_size, num_classes)\n",
        "best_model.load_state_dict(best_model_state)\n",
        "\n",
        "# Set the best model to evaluation mode\n",
        "best_model.eval()\n",
        "\n",
        "# Loop through the test data and evaluate using the best model\n",
        "with t.no_grad():\n",
        "    test_correct = 0\n",
        "    test_total = 0\n",
        "    for X_test, Y_test in test_data_loader:\n",
        "        out = best_model(X_test)\n",
        "        _, predicted = t.max(out.data, 1)\n",
        "        test_total += Y_test.size(0)\n",
        "        test_correct += (predicted == Y_test).sum().item()\n",
        "    test_accuracy = 100 * test_correct / test_total\n",
        "\n",
        "# Print or use the test accuracy\n",
        "print(f'Test Accuracy: {test_accuracy}%')\n"
      ],
      "metadata": {
        "id": "6lxmoGu5dxT3"
      },
      "id": "6lxmoGu5dxT3",
      "execution_count": null,
      "outputs": []
    },
    {
      "cell_type": "code",
      "source": [
        "from sklearn.metrics import confusion_matrix\n",
        "\n",
        "conf_matrix = confusion_matrix(test_targets, test_predictions)\n",
        "print('Confusion Matrix:')\n",
        "print(conf_matrix)"
      ],
      "metadata": {
        "id": "KsDgxvGFjI7g"
      },
      "id": "KsDgxvGFjI7g",
      "execution_count": null,
      "outputs": []
    }
  ],
  "metadata": {
    "kernelspec": {
      "display_name": "Python 3",
      "name": "python3"
    },
    "language_info": {
      "codemirror_mode": {
        "name": "ipython",
        "version": 3
      },
      "file_extension": ".py",
      "mimetype": "text/x-python",
      "name": "python",
      "nbconvert_exporter": "python",
      "pygments_lexer": "ipython3",
      "version": "3.11.4"
    },
    "colab": {
      "provenance": [],
      "gpuType": "T4",
      "include_colab_link": true
    },
    "accelerator": "GPU"
  },
  "nbformat": 4,
  "nbformat_minor": 5
}